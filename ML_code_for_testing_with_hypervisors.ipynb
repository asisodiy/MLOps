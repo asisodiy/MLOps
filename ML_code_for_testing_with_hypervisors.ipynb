{
  "nbformat": 4,
  "nbformat_minor": 0,
  "metadata": {
    "kernelspec": {
      "display_name": "Python 3",
      "language": "python",
      "name": "python3"
    },
    "language_info": {
      "codemirror_mode": {
        "name": "ipython",
        "version": 3
      },
      "file_extension": ".py",
      "mimetype": "text/x-python",
      "name": "python",
      "nbconvert_exporter": "python",
      "pygments_lexer": "ipython3",
      "version": "3.7.7"
    },
    "colab": {
      "name": "ML code for testing with hypervisors.ipynb",
      "provenance": [],
      "collapsed_sections": []
    }
  },
  "cells": [
    {
      "cell_type": "code",
      "metadata": {
        "id": "sB17TKOMFBNB",
        "colab_type": "code",
        "colab": {}
      },
      "source": [
        "#IMPORTING THE PANDAS LIBRARY\n",
        "\n",
        "import pandas as pd\n"
      ],
      "execution_count": null,
      "outputs": []
    },
    {
      "cell_type": "code",
      "metadata": {
        "id": "1OetDfWUFBNJ",
        "colab_type": "code",
        "colab": {}
      },
      "source": [
        "# DEFINING OUR DATA AS DATASET NAME \n",
        "\n",
        "dataset = pd.read_csv('Churn_Modelling.csv')"
      ],
      "execution_count": null,
      "outputs": []
    },
    {
      "cell_type": "code",
      "metadata": {
        "id": "6yn9gLmUFBNO",
        "colab_type": "code",
        "colab": {
          "base_uri": "https://localhost:8080/",
          "height": 87
        },
        "outputId": "edd57541-2006-4c8f-858f-52c5cce6ff2c"
      },
      "source": [
        "# IT SHOWS NO OF COLUMNS IN OUR DATASET\n",
        "\n",
        "dataset.columns"
      ],
      "execution_count": null,
      "outputs": [
        {
          "output_type": "execute_result",
          "data": {
            "text/plain": [
              "Index(['RowNumber', 'CustomerId', 'Surname', 'CreditScore', 'Geography',\n",
              "       'Gender', 'Age', 'Tenure', 'Balance', 'NumOfProducts', 'HasCrCard',\n",
              "       'IsActiveMember', 'EstimatedSalary', 'Exited'],\n",
              "      dtype='object')"
            ]
          },
          "metadata": {
            "tags": []
          },
          "execution_count": 133
        }
      ]
    },
    {
      "cell_type": "code",
      "metadata": {
        "id": "C9GO26IkFBNU",
        "colab_type": "code",
        "colab": {}
      },
      "source": [
        "# TELLING WHAT IS OUR PREDICTOR THAT IS ** Y ** IN OUR DATASET \n",
        "\n",
        "y = dataset['Exited']"
      ],
      "execution_count": null,
      "outputs": []
    },
    {
      "cell_type": "code",
      "metadata": {
        "id": "XQx4hjflFBNZ",
        "colab_type": "code",
        "colab": {}
      },
      "source": [
        ""
      ],
      "execution_count": null,
      "outputs": []
    },
    {
      "cell_type": "code",
      "metadata": {
        "id": "I10f_eLjFBNd",
        "colab_type": "code",
        "colab": {}
      },
      "source": [
        "# TELLING WHAT IS OUR PREDICT  THAT IS ** X ** IN OUR DATASET\n",
        "\n",
        "X = dataset[['CreditScore', 'Age', 'Tenure', 'Balance', 'NumOfProducts', 'HasCrCard',\n",
        "       'IsActiveMember', 'EstimatedSalary']]"
      ],
      "execution_count": null,
      "outputs": []
    },
    {
      "cell_type": "code",
      "metadata": {
        "id": "zBjCUC7uFBNi",
        "colab_type": "code",
        "colab": {}
      },
      "source": [
        "# FROM HERE WE START DATA PREPROCESSING AND DATA CLEANING TYPICALLY KNOW AS DATA MINING\n",
        "\n",
        "geo = dataset['Geography']"
      ],
      "execution_count": null,
      "outputs": []
    },
    {
      "cell_type": "code",
      "metadata": {
        "id": "xeOaZtAtFBNo",
        "colab_type": "code",
        "colab": {}
      },
      "source": [
        "# CREATING DUMMY VARIABLES\n",
        "\n",
        "geo = pd.get_dummies(geo, drop_first=True )"
      ],
      "execution_count": null,
      "outputs": []
    },
    {
      "cell_type": "code",
      "metadata": {
        "id": "H5qkqvniFBNs",
        "colab_type": "code",
        "colab": {}
      },
      "source": [
        "gender = dataset['Gender']"
      ],
      "execution_count": null,
      "outputs": []
    },
    {
      "cell_type": "code",
      "metadata": {
        "id": "1IlFoMyWFBNx",
        "colab_type": "code",
        "colab": {}
      },
      "source": [
        "gender = pd.get_dummies(gender, drop_first=True )"
      ],
      "execution_count": null,
      "outputs": []
    },
    {
      "cell_type": "code",
      "metadata": {
        "id": "an7Lnx0FFBN3",
        "colab_type": "code",
        "colab": {}
      },
      "source": [
        "# NOW APPENDING THE DUMMY VARIABLE CREATED IN THE DATASET....\n",
        "\n",
        "X = pd.concat([X,gender,geo], axis=1)"
      ],
      "execution_count": null,
      "outputs": []
    },
    {
      "cell_type": "code",
      "metadata": {
        "id": "MJgm5KWQFBN7",
        "colab_type": "code",
        "colab": {
          "base_uri": "https://localhost:8080/",
          "height": 336
        },
        "outputId": "1f5a7f87-2625-4bf8-a36a-f07881528422"
      },
      "source": [
        "X.info()"
      ],
      "execution_count": null,
      "outputs": [
        {
          "output_type": "stream",
          "text": [
            "<class 'pandas.core.frame.DataFrame'>\n",
            "RangeIndex: 10000 entries, 0 to 9999\n",
            "Data columns (total 11 columns):\n",
            " #   Column           Non-Null Count  Dtype  \n",
            "---  ------           --------------  -----  \n",
            " 0   CreditScore      10000 non-null  int64  \n",
            " 1   Age              10000 non-null  int64  \n",
            " 2   Tenure           10000 non-null  int64  \n",
            " 3   Balance          10000 non-null  float64\n",
            " 4   NumOfProducts    10000 non-null  int64  \n",
            " 5   HasCrCard        10000 non-null  int64  \n",
            " 6   IsActiveMember   10000 non-null  int64  \n",
            " 7   EstimatedSalary  10000 non-null  float64\n",
            " 8   Male             10000 non-null  uint8  \n",
            " 9   Germany          10000 non-null  uint8  \n",
            " 10  Spain            10000 non-null  uint8  \n",
            "dtypes: float64(2), int64(6), uint8(3)\n",
            "memory usage: 654.4 KB\n"
          ],
          "name": "stdout"
        }
      ]
    },
    {
      "cell_type": "code",
      "metadata": {
        "id": "Vutybje7FBN_",
        "colab_type": "code",
        "colab": {}
      },
      "source": [
        "# NOW FROM HERE WE START OUR MODEL TRAINING AND  MODEL SELECTION \n",
        "\n",
        "from keras.optimizers import Adam"
      ],
      "execution_count": null,
      "outputs": []
    },
    {
      "cell_type": "code",
      "metadata": {
        "id": "ypvI3-DfFBOP",
        "colab_type": "code",
        "colab": {}
      },
      "source": [
        "#SPLITTING THE DATA FOR THE PURPOSE OF TRAINING AND TESTING PART....\n",
        "# BUDDY IF U WANT TO REDUCE THE TIME OF TRAINING FOR THE TESTING PURPOSE THEN JUST INCREASE THE THE RATIO FOR THER TRAINING AND TESTING DATA.....\n",
        "\n",
        "from sklearn.model_selection import train_test_split"
      ],
      "execution_count": null,
      "outputs": []
    },
    {
      "cell_type": "code",
      "metadata": {
        "id": "wx-AFMofFBOU",
        "colab_type": "code",
        "colab": {}
      },
      "source": [
        "# HERE AS U SEE THE TEST SIZE IS PUT 20%... FOR THE BASIC TESTING AND FAST PROCESSING U MAY CHANGE IT MANULLY FOR NOW TIMES.....\n",
        "\n",
        "X_train, X_test, y_train, y_test = train_test_split(X, y, test_size=0.20, random_state=42)"
      ],
      "execution_count": null,
      "outputs": []
    },
    {
      "cell_type": "code",
      "metadata": {
        "id": "VjxXMvItFBOa",
        "colab_type": "code",
        "colab": {}
      },
      "source": [
        "from keras.models import Sequential"
      ],
      "execution_count": null,
      "outputs": []
    },
    {
      "cell_type": "code",
      "metadata": {
        "id": "mcD35ravFBOe",
        "colab_type": "code",
        "colab": {}
      },
      "source": [
        "# SO HERE WE CHOOSE THE SEQUENTIAL MODEL FOR THE PURPOSE OF MODEL TRAINING....\n",
        "\n",
        "model = Sequential()"
      ],
      "execution_count": null,
      "outputs": []
    },
    {
      "cell_type": "code",
      "metadata": {
        "id": "cU9UU3GrFBOl",
        "colab_type": "code",
        "colab": {}
      },
      "source": [
        "from keras.layers import Dense"
      ],
      "execution_count": null,
      "outputs": []
    },
    {
      "cell_type": "code",
      "metadata": {
        "id": "YsOfgH2PMVfO",
        "colab_type": "code",
        "colab": {}
      },
      "source": [
        "# VARIABLE  HYPERVISOR = HY1 , HY2 , HY3, HY4 \n",
        "# VARIABLE EPOCHS = EPOCHS1\n",
        "# THE ABOVE LISTED ARE THE HYPERVISORS THAT U NEED TO CHANGE IN THE MODEL TRAINING.....\n",
        "#\n",
        "\n",
        "# DO THREE RUNS FOR THE PURPOSE OF TESTING PART\n",
        "# FOR RUN 1  =>  HY1 = 6  ,  HY2 = 6  ,   HY3 = 6 ,  EPOCHS1 = 150\n",
        "# FOR RUN 2 =>\n",
        "HY1 = 7   \n",
        "HY2 = 7     \n",
        "HY3 = 7  \n",
        "EPOCHS1 = 200\n",
        "# FOR RUN 3  =>  HY1 = 8  ,  HY2 = 8  ,   HY3 = 8 ,  EPOCHS1 = 250"
      ],
      "execution_count": null,
      "outputs": []
    },
    {
      "cell_type": "markdown",
      "metadata": {
        "id": "6HKoa1PyR6yg",
        "colab_type": "text"
      },
      "source": [
        ""
      ]
    },
    {
      "cell_type": "code",
      "metadata": {
        "id": "6hZO6ppyFBOr",
        "colab_type": "code",
        "colab": {}
      },
      "source": [
        "model.add(Dense(units= HY1 , input_dim=11, activation='relu' ))"
      ],
      "execution_count": null,
      "outputs": []
    },
    {
      "cell_type": "code",
      "metadata": {
        "id": "ku2bmNvmFBOz",
        "colab_type": "code",
        "colab": {}
      },
      "source": [
        "model.add(Dense(units= HY2, activation='relu'))"
      ],
      "execution_count": null,
      "outputs": []
    },
    {
      "cell_type": "code",
      "metadata": {
        "id": "sfzAdspUFBO8",
        "colab_type": "code",
        "colab": {}
      },
      "source": [
        "model.add(Dense(units= HY3, activation='relu'))"
      ],
      "execution_count": null,
      "outputs": []
    },
    {
      "cell_type": "code",
      "metadata": {
        "id": "PGKMhe4qFBPA",
        "colab_type": "code",
        "colab": {}
      },
      "source": [
        "model.add(Dense(units= 1 ,  activation='sigmoid' ))"
      ],
      "execution_count": null,
      "outputs": []
    },
    {
      "cell_type": "code",
      "metadata": {
        "id": "hiX2T5l9FBPE",
        "colab_type": "code",
        "colab": {}
      },
      "source": [
        "model.compile(optimizer=Adam(learning_rate=0.000001),loss='binary_crossentropy' ,metrics=['accuracy'] )"
      ],
      "execution_count": null,
      "outputs": []
    },
    {
      "cell_type": "code",
      "metadata": {
        "id": "SQOzlOpVFBPL",
        "colab_type": "code",
        "colab": {
          "base_uri": "https://localhost:8080/",
          "height": 34
        },
        "outputId": "7f96fc7d-9cb2-4f07-ddcd-99eafd606cd9"
      },
      "source": [
        "model.fit(X_train,y_train , epochs= EPOCHS1 , verbose=0)"
      ],
      "execution_count": null,
      "outputs": [
        {
          "output_type": "execute_result",
          "data": {
            "text/plain": [
              "<keras.callbacks.callbacks.History at 0x7f34a706d4a8>"
            ]
          },
          "metadata": {
            "tags": []
          },
          "execution_count": 154
        }
      ]
    },
    {
      "cell_type": "code",
      "metadata": {
        "id": "TLswv4XHFBPQ",
        "colab_type": "code",
        "colab": {}
      },
      "source": [
        "df_loss = pd.DataFrame(model.history.history)"
      ],
      "execution_count": null,
      "outputs": []
    },
    {
      "cell_type": "code",
      "metadata": {
        "id": "Mg__20J1IH7h",
        "colab_type": "code",
        "colab": {
          "base_uri": "https://localhost:8080/",
          "height": 52
        },
        "outputId": "237f02e2-2c96-4e16-f5f5-527c9395332f"
      },
      "source": [
        "# THIS WHOLE CODE WILL GIVE U THE ACCURACY OF THE MODEL WHICH IS THE OUTPUT OF THE CODE.....\n",
        "# FROM THAT U WILL GET TO KNOW WHAT IS THE ACCURACY OF THE MODEL THAT WE ARE TRAINING RIGHT NOW.....\n",
        "\n",
        "import numpy\n",
        "cvscores = []\n",
        "scores = model.evaluate(X_test, y_test, verbose=0)\n",
        "print(\"%s: %.2f%%\" % (model.metrics_names[1], scores[1]*100))\n",
        "cvscores.append(scores[1] * 100)\n",
        "print(\"%.2f%% (+/- %.2f%%)\" % (numpy.mean(cvscores), numpy.std(cvscores)))\n"
      ],
      "execution_count": null,
      "outputs": [
        {
          "output_type": "stream",
          "text": [
            "accuracy: 30.55%\n",
            "30.55% (+/- 0.00%)\n"
          ],
          "name": "stdout"
        }
      ]
    },
    {
      "cell_type": "code",
      "metadata": {
        "id": "mMbyL12kFBPV",
        "colab_type": "code",
        "colab": {
          "base_uri": "https://localhost:8080/",
          "height": 282
        },
        "outputId": "30d6ffb3-3b80-4d78-e8e9-da36bf7a7616"
      },
      "source": [
        "# THIS ISJUST THE GRAPH OF THE LOSS THAT SHOWS THE LOSS PATTERN IN THE MODEL..\n",
        "# A MODEL IS SSAID TO BE GOOD IF THE LOSS AT THE END OF THE MODEL IS VERY LESS...\n",
        "# LESSER THE LOSS BETTER WILL BE THE MODEL HENCE PRECISE ACCURACY.....\n",
        "\n",
        "\n",
        "df_loss.plot()"
      ],
      "execution_count": null,
      "outputs": [
        {
          "output_type": "execute_result",
          "data": {
            "text/plain": [
              "<matplotlib.axes._subplots.AxesSubplot at 0x7f34a6e1e668>"
            ]
          },
          "metadata": {
            "tags": []
          },
          "execution_count": 157
        },
        {
          "output_type": "display_data",
          "data": {
            "image/png": "[encoded data removed]",
            "text/plain": [
              "<Figure size 432x288 with 1 Axes>"
            ]
          },
          "metadata": {
            "tags": [],
            "needs_background": "light"
          }
        }
      ]
    },
    {
      "cell_type": "code",
      "metadata": {
        "id": "UY4LNnhLHAl_",
        "colab_type": "code",
        "colab": {}
      },
      "source": [
        ""
      ],
      "execution_count": null,
      "outputs": []
    }
  ]
}